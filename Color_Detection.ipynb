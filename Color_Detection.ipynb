{
 "cells": [
  {
   "cell_type": "code",
   "execution_count": 11,
   "metadata": {},
   "outputs": [],
   "source": [
    "import cv2\n",
    "\n",
    "\n",
    "img = cv2.imread(\"WhatsApp Image 2024-09-12 at 18.20.19_649ad350.jpg\", 1)\n",
    "\n",
    "\n",
    "if img is None:\n",
    "    print(\"Görüntü yüklenemedi, lütfen dosya yolunu kontrol edin.\")\n",
    "else:\n",
    "    \n",
    "    img = cv2.resize(img, (400, 400))\n",
    "    \n",
    "    \n",
    "    cv2.imshow(\"Image\", img)\n",
    "    \n",
    "    \n",
    "    cv2.waitKey(0)\n",
    "    cv2.destroyAllWindows()\n"
   ]
  },
  {
   "cell_type": "code",
   "execution_count": 26,
   "metadata": {},
   "outputs": [],
   "source": [
    "import cv2\n",
    "\n",
    "cap = cv2.VideoCapture(0) \n",
    "\n",
    "while True:\n",
    "    ret, frame = cap.read()\n",
    "    width = int(cap.get(3))\n",
    "    height = int(cap.get(4))\n",
    "    \n",
    "    img = cv2.line(frame, (0,0) , (width , height),(255,0,0),10)\n",
    "    img = cv2.line(img, (0,height) , (width , 0),(0,255,0),10)\n",
    "    img = cv2.rectangle(img, (100,100) , (300, 300),(128,128,128),5) #sırayla resim ,  merkez duruşu ,rengi , kalınlığı (yerine -1 yazarsan çizdiğin şeyin içini doldurur)\n",
    "    \n",
    "    cv2.imshow('frame', frame)  # cv2_imshow yerine cv2.imshow kullan!!\n",
    "    \n",
    "    \n",
    "    if cv2.waitKey(1) == ord('q'):\n",
    "        break\n",
    "\n",
    "cap.release()\n",
    "cv2.destroyAllWindows()\n"
   ]
  },
  {
   "cell_type": "code",
   "execution_count": 1,
   "metadata": {},
   "outputs": [
    {
     "ename": "error",
     "evalue": "OpenCV(4.10.0) D:\\a\\opencv-python\\opencv-python\\opencv\\modules\\imgproc\\src\\color.cpp:196: error: (-215:Assertion failed) !_src.empty() in function 'cv::cvtColor'\n",
     "output_type": "error",
     "traceback": [
      "\u001b[1;31m---------------------------------------------------------------------------\u001b[0m",
      "\u001b[1;31merror\u001b[0m                                     Traceback (most recent call last)",
      "Cell \u001b[1;32mIn[1], line 11\u001b[0m\n\u001b[0;32m      8\u001b[0m width \u001b[38;5;241m=\u001b[39m \u001b[38;5;28mint\u001b[39m(cap\u001b[38;5;241m.\u001b[39mget(\u001b[38;5;241m3\u001b[39m))\n\u001b[0;32m      9\u001b[0m height \u001b[38;5;241m=\u001b[39m \u001b[38;5;28mint\u001b[39m(cap\u001b[38;5;241m.\u001b[39mget(\u001b[38;5;241m4\u001b[39m))\n\u001b[1;32m---> 11\u001b[0m hsv \u001b[38;5;241m=\u001b[39m \u001b[43mcv2\u001b[49m\u001b[38;5;241;43m.\u001b[39;49m\u001b[43mcvtColor\u001b[49m\u001b[43m(\u001b[49m\u001b[43mframe\u001b[49m\u001b[43m,\u001b[49m\u001b[43m \u001b[49m\u001b[43mcv2\u001b[49m\u001b[38;5;241;43m.\u001b[39;49m\u001b[43mCOLOR_BGR2HSV\u001b[49m\u001b[43m)\u001b[49m\n\u001b[0;32m     12\u001b[0m lower_blue \u001b[38;5;241m=\u001b[39m np\u001b[38;5;241m.\u001b[39marray([\u001b[38;5;241m90\u001b[39m, \u001b[38;5;241m50\u001b[39m, \u001b[38;5;241m50\u001b[39m])\n\u001b[0;32m     13\u001b[0m upper_blue \u001b[38;5;241m=\u001b[39m np\u001b[38;5;241m.\u001b[39marray([\u001b[38;5;241m130\u001b[39m,\u001b[38;5;241m255\u001b[39m,\u001b[38;5;241m255\u001b[39m])\n",
      "\u001b[1;31merror\u001b[0m: OpenCV(4.10.0) D:\\a\\opencv-python\\opencv-python\\opencv\\modules\\imgproc\\src\\color.cpp:196: error: (-215:Assertion failed) !_src.empty() in function 'cv::cvtColor'\n"
     ]
    }
   ],
   "source": [
    "import cv2\n",
    "import numpy as np\n",
    "\n",
    "cap = cv2.VideoCapture(0)  \n",
    "\n",
    "while True:\n",
    "    ret, frame = cap.read()\n",
    "    width = int(cap.get(3))\n",
    "    height = int(cap.get(4))\n",
    "    \n",
    "    hsv = cv2.cvtColor(frame, cv2.COLOR_BGR2HSV)\n",
    "    lower_blue = np.array([90, 50, 50])\n",
    "    upper_blue = np.array([130,255,255])\n",
    "    \n",
    "    mask = cv2.inRange(hsv,lower_blue,upper_blue)\n",
    "    result = cv2.bitwise_and(frame,frame,mask=mask)\n",
    "    \n",
    "    cv2.imshow('frame', result)  \n",
    "    cv2.imshow('mask', mask)  \n",
    "    \n",
    "    \n",
    "    if cv2.waitKey(1)== ord('q'):\n",
    "        break\n",
    "\n",
    "cap.release()\n",
    "cv2.destroyAllWindows()\n"
   ]
  },
  {
   "cell_type": "markdown",
   "metadata": {},
   "source": [
    "COLOR RECOGNITION IN REAL TIME"
   ]
  },
  {
   "cell_type": "code",
   "execution_count": 2,
   "metadata": {},
   "outputs": [],
   "source": [
    "import cv2\n",
    "\n",
    "cap = cv2.VideoCapture(0)\n",
    "cap.set(cv2.CAP_PROP_FRAME_HEIGHT,720)\n",
    "cap.set(cv2.CAP_PROP_FRAME_WIDTH,1280)\n",
    "\n",
    "\n",
    "while True:\n",
    "    _, frame = cap.read()\n",
    "    hsv_frame = cv2.cvtColor(frame, cv2.COLOR_BGR2HSV)\n",
    "    height,width , _ = frame.shape\n",
    "    \n",
    "    cx = int(width / 2)\n",
    "    cy = int(height / 2)\n",
    "    \n",
    "\n",
    "    pixel_center = hsv_frame[cy, cx]\n",
    "\n",
    "    hue_value = pixel_center[0]\n",
    "    \n",
    "    if hue_value < 10 or hue_value > 160:\n",
    "       color = \"RED\"\n",
    "    elif hue_value < 25:\n",
    "       color = \"ORANGE\"\n",
    "    elif hue_value < 35:\n",
    "       color = \"YELLOW\"\n",
    "    elif hue_value < 85:\n",
    "       color = \"GREEN\"\n",
    "    elif hue_value < 130:\n",
    "       color = \"BLUE\"\n",
    "    else:\n",
    "       color = \"UNDEFINED\"\n",
    "\n",
    "\n",
    "        \n",
    "\n",
    "    pixel_center_bgr = frame[cy,cx]\n",
    "    cv2.putText(frame,color , (10,50),0,1,(255,0,0),2)\n",
    "    \n",
    "    cv2.circle(frame, (cx,cy),5,(255,0,0),3)\n",
    "    \n",
    "    \n",
    "   \n",
    "    cv2.imshow(\"Frame\", frame)\n",
    "    \n",
    "    \n",
    "    key = cv2.waitKey(1)\n",
    "    \n",
    "    \n",
    "    if key == ord('q') or key == ord('Q'): \n",
    "        break\n",
    "\n",
    "cap.release()\n",
    "cv2.destroyAllWindows()\n"
   ]
  }
 ],
 "metadata": {
  "kernelspec": {
   "display_name": "Python 3",
   "language": "python",
   "name": "python3"
  },
  "language_info": {
   "codemirror_mode": {
    "name": "ipython",
    "version": 3
   },
   "file_extension": ".py",
   "mimetype": "text/x-python",
   "name": "python",
   "nbconvert_exporter": "python",
   "pygments_lexer": "ipython3",
   "version": "3.12.2"
  }
 },
 "nbformat": 4,
 "nbformat_minor": 2
}
